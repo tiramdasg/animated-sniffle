{
 "cells": [
  {
   "metadata": {},
   "cell_type": "markdown",
   "source": "# Data Types and String manipulations",
   "id": "ec5af2f20bbd0400"
  },
  {
   "cell_type": "code",
   "id": "initial_id",
   "metadata": {
    "collapsed": true,
    "ExecuteTime": {
     "end_time": "2024-05-28T08:51:59.526337Z",
     "start_time": "2024-05-28T08:51:59.516224Z"
    }
   },
   "source": [
    "# String\n",
    "print(\"Hello\"[0]) # is called subscripting \n",
    "print(\"Hello\"[-1])\n",
    "print(\"123\" + \"345\") # concatenation"
   ],
   "outputs": [
    {
     "name": "stdout",
     "output_type": "stream",
     "text": [
      "H\n",
      "o\n",
      "123345\n"
     ]
    }
   ],
   "execution_count": 4
  },
  {
   "metadata": {
    "ExecuteTime": {
     "end_time": "2024-05-28T09:31:01.750251Z",
     "start_time": "2024-05-28T09:31:01.738204Z"
    }
   },
   "cell_type": "code",
   "source": [
    "# Integer\n",
    "a = 123\n",
    "b = 456\n",
    "a+b\n",
    "# to use commas in number for visualisation purposes use \"_\"\n",
    "c = 123_456_879\n",
    "c"
   ],
   "id": "cb682480c0075deb",
   "outputs": [
    {
     "data": {
      "text/plain": [
       "123456879"
      ]
     },
     "execution_count": 7,
     "metadata": {},
     "output_type": "execute_result"
    }
   ],
   "execution_count": 7
  },
  {
   "metadata": {
    "ExecuteTime": {
     "end_time": "2024-05-28T09:43:04.540676Z",
     "start_time": "2024-05-28T09:43:04.531092Z"
    }
   },
   "cell_type": "code",
   "source": [
    "#Float\n",
    "pi=3.14159\n",
    "pi"
   ],
   "id": "d2699a320b1abbf",
   "outputs": [
    {
     "data": {
      "text/plain": [
       "3.14159"
      ]
     },
     "execution_count": 9,
     "metadata": {},
     "output_type": "execute_result"
    }
   ],
   "execution_count": 9
  },
  {
   "metadata": {
    "ExecuteTime": {
     "end_time": "2024-05-28T09:43:21.191100Z",
     "start_time": "2024-05-28T09:43:21.184826Z"
    }
   },
   "cell_type": "code",
   "source": [
    "# Boolean\n",
    "t = True\n",
    "f = False\n",
    "print(t, f)"
   ],
   "id": "544b27226373e1cd",
   "outputs": [
    {
     "name": "stdout",
     "output_type": "stream",
     "text": [
      "True False\n"
     ]
    }
   ],
   "execution_count": 11
  },
  {
   "metadata": {},
   "cell_type": "markdown",
   "source": "Write a program that adds the digits in a 2 digit number. e.g. if the input was 35, then the output should be 3 + 5 = 8",
   "id": "4f6a5767394f50ea"
  },
  {
   "metadata": {
    "ExecuteTime": {
     "end_time": "2024-05-28T19:32:33.902961Z",
     "start_time": "2024-05-28T19:32:31.516740Z"
    }
   },
   "cell_type": "code",
   "source": [
    "two_digit_number = input()\n",
    "print(type(two_digit_number))\n",
    "print(int(two_digit_number[0])+int(two_digit_number[-1]))"
   ],
   "id": "1c9544a4cbd0cb72",
   "outputs": [
    {
     "name": "stdout",
     "output_type": "stream",
     "text": [
      "<class 'str'>\n",
      "12\n"
     ]
    }
   ],
   "execution_count": 13
  },
  {
   "metadata": {},
   "cell_type": "markdown",
   "source": [
    "PEMDAS: (Left to right) <br>\n",
    "() <br>\n",
    "** <br>\n",
    "\\* / <br>\n",
    "\\+ -  <br>"
   ],
   "id": "55e710ec3e5568b5"
  },
  {
   "metadata": {
    "ExecuteTime": {
     "end_time": "2024-05-28T19:41:28.460192Z",
     "start_time": "2024-05-28T19:41:28.454502Z"
    }
   },
   "cell_type": "code",
   "source": "print(3 * 3 + 3 / 3 - 3) # should print 7",
   "id": "f3ca9751172e5264",
   "outputs": [
    {
     "name": "stdout",
     "output_type": "stream",
     "text": [
      "7.0\n"
     ]
    }
   ],
   "execution_count": 15
  },
  {
   "metadata": {
    "ExecuteTime": {
     "end_time": "2024-05-28T19:48:14.775898Z",
     "start_time": "2024-05-28T19:48:06.283763Z"
    }
   },
   "cell_type": "code",
   "source": [
    "# enter height in meters e.g: 1.65\n",
    "height = input(\"Enter height in meters\")\n",
    "# enter weight in kilograms e.g: 72\n",
    "weight = input(\"enter weight in kg\")\n",
    "\n",
    "# bmi is a whole number without any floating point\n",
    "bmi = float(weight) / (float(height)**2)\n",
    "print(int(bmi))"
   ],
   "id": "c5a441cc1930db76",
   "outputs": [
    {
     "name": "stdout",
     "output_type": "stream",
     "text": [
      "25\n"
     ]
    }
   ],
   "execution_count": 17
  },
  {
   "metadata": {
    "ExecuteTime": {
     "end_time": "2024-05-28T19:54:26.604026Z",
     "start_time": "2024-05-28T19:54:26.595271Z"
    }
   },
   "cell_type": "code",
   "source": [
    "print(round(9/4, 2)) # round(num, num_of digits after floatig point)\n",
    "print(9 // 4) # floor division\n",
    "count = 0\n",
    "count += 1 # similarly -=, *=, /=, **=, //=\n",
    "count //=0.5\n",
    "print(count)"
   ],
   "id": "d46ac5800f8fc576",
   "outputs": [
    {
     "name": "stdout",
     "output_type": "stream",
     "text": [
      "2.25\n",
      "2\n",
      "2.0\n"
     ]
    }
   ],
   "execution_count": 26
  },
  {
   "metadata": {
    "ExecuteTime": {
     "end_time": "2024-05-28T20:03:07.533519Z",
     "start_time": "2024-05-28T20:03:02.569415Z"
    }
   },
   "cell_type": "code",
   "source": [
    "age = input(\"Enter age less than or equal to 90\")\n",
    "weeks_left = (90*52)-(int(age)*52)\n",
    "print(f'You have {weeks_left} weeks left.')"
   ],
   "id": "c50780ec1ce1347b",
   "outputs": [
    {
     "name": "stdout",
     "output_type": "stream",
     "text": [
      "You have 3328 weeks left.\n"
     ]
    }
   ],
   "execution_count": 27
  },
  {
   "metadata": {
    "ExecuteTime": {
     "end_time": "2024-05-28T20:03:48.667664Z",
     "start_time": "2024-05-28T20:03:48.664125Z"
    }
   },
   "cell_type": "code",
   "source": "print(6 + 4 / 2 - (1 * 2))",
   "id": "50c8c92a042a41df",
   "outputs": [
    {
     "name": "stdout",
     "output_type": "stream",
     "text": [
      "6.0\n"
     ]
    }
   ],
   "execution_count": 28
  }
 ],
 "metadata": {
  "kernelspec": {
   "display_name": "Python 3",
   "language": "python",
   "name": "python3"
  },
  "language_info": {
   "codemirror_mode": {
    "name": "ipython",
    "version": 2
   },
   "file_extension": ".py",
   "mimetype": "text/x-python",
   "name": "python",
   "nbconvert_exporter": "python",
   "pygments_lexer": "ipython2",
   "version": "2.7.6"
  }
 },
 "nbformat": 4,
 "nbformat_minor": 5
}
