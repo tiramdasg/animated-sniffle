{
 "cells": [
  {
   "metadata": {},
   "cell_type": "markdown",
   "source": [
    "# Basics of Python\n",
    "When in doubt go back to basics of Python 🐍!!\n",
    "\n",
    "This is a challenge I took to code for 100 days!\n",
    "\n",
    "|    |        |        |        |        |        |         |\n",
    "|----|--------|--------|--------|--------|--------|---------|\n",
    "| ✅ 1 |  16 |  31 |  46 |  61 |  76 |  91  |\n",
    "|  2 |  17 |  32 |  47 |  62 |  77 |  92  |\n",
    "|  3 |  18 |  33 |  48 |  63 |  78 |  93  |\n",
    "|  4 |  19 |  34 |  49 |  64 |  79 |  94  |\n",
    "|  5 |  20 |  35 |  50 |  65 |  80 |  95  |\n",
    "|  6 |  21 |  36 |  51 |  66 |  81 |  96  |\n",
    "|  7 |  22 |  37 |  52 |  67 |  82 |  97  |\n",
    "|  8 |  23 |  38 |  53 |  68 |  83 |  98  |\n",
    "|  9 |  24 |  39 |  54 |  69 |  84 |  99  |\n",
    "|  10 |  25 |  40 |  55 |  70 |  85 |  100 |\n",
    "|  11 |  26 |  41 |  56 |  71 |  86 |         |\n",
    "|  12 |  27 |  42 |  57 |  72 |  87 |         |\n",
    "|  13 |  28 |  43 |  58 |  73 |  88 |         |\n",
    "|  14 |  29 |  44 |  59 |  74 |  89 |         |\n",
    "|  15 |  30 |  45 |  60 |  75 |  90 |         |\n",
    "\n",
    "## Print statements and debugging\n",
    "So we see some snippets on how to print strings and debug them."
   ],
   "id": "e3b74bf26f26a951"
  },
  {
   "metadata": {
    "ExecuteTime": {
     "end_time": "2024-05-27T09:30:25.834878Z",
     "start_time": "2024-05-27T09:30:25.804103Z"
    }
   },
   "cell_type": "code",
   "source": [
    "print(\"1. Mix 500g of Flour, 10g Yeast and 300ml Water in a bowl.\")\n",
    "print(\"2. Knead the dough for 10 minutes.\")\n",
    "print(\"3. Add 3g of Salt.\")\n",
    "print(\"4. Leave to rise for 2 hours.\")\n",
    "print(\"5. Bake at 200 degrees C for 30 minutes.\")\n",
    "\n",
    "# or use \\n or +. an example of combination is as below\n",
    "print(\"1. Mix 500g of Flour, 10g Yeast and 300ml Water in a bowl.\\n2. Knead the dough for 10 minutes.\\n\" + \"3. Add 3g of Salt.\\n4. Leave to rise for 2 hours.\\n5. Bake at 200 degrees C for 30 minutes.\")\n",
    "\n",
    "# usage of quotes in a print \n",
    "print(\"A 'single quote' inside a double quote\")\n",
    "print('A \"double quote\" inside a single quote')\n",
    "print(\"Alternatively you can just \\\"escape\\\" the quote\")"
   ],
   "id": "3a8fd30402cc29dd",
   "outputs": [
    {
     "name": "stdout",
     "output_type": "stream",
     "text": [
      "1. Mix 500g of Flour, 10g Yeast and 300ml Water in a bowl.\n",
      "2. Knead the dough for 10 minutes.\n",
      "3. Add 3g of Salt.\n",
      "4. Leave to rise for 2 hours.\n",
      "5. Bake at 200 degrees C for 30 minutes.\n",
      "1. Mix 500g of Flour, 10g Yeast and 300ml Water in a bowl.\n",
      "2. Knead the dough for 10 minutes.\n",
      "3. Add 3g of Salt.\n",
      "4. Leave to rise for 2 hours.\n",
      "5. Bake at 200 degrees C for 30 minutes.\n",
      "A 'single quote' inside a double quote\n",
      "A \"double quote\" inside a single quote\n",
      "Alternatively you can just \"escape\" the quote\n"
     ]
    }
   ],
   "execution_count": 1
  },
  {
   "metadata": {
    "ExecuteTime": {
     "end_time": "2024-05-27T09:33:44.888161Z",
     "start_time": "2024-05-27T09:33:44.869696Z"
    }
   },
   "cell_type": "code",
   "source": [
    "# Fix the code below 👇\n",
    "\n",
    "# print(Day 1 - String Manipulation\")\n",
    "# print(\"String Concatenation is done with the \"+\" sign.\")\n",
    "#   print('e.g. print(\"Hello \" + \"world\")')\n",
    "# print((\"New lines can be created with a backslash and n.\")"
   ],
   "id": "bd52e9bc5368519e",
   "outputs": [
    {
     "ename": "SyntaxError",
     "evalue": "unterminated string literal (detected at line 3) (3232730066.py, line 3)",
     "output_type": "error",
     "traceback": [
      "\u001B[1;36m  Cell \u001B[1;32mIn[4], line 3\u001B[1;36m\u001B[0m\n\u001B[1;33m    print(Day 1 - String Manipulation\")\u001B[0m\n\u001B[1;37m                                     ^\u001B[0m\n\u001B[1;31mSyntaxError\u001B[0m\u001B[1;31m:\u001B[0m unterminated string literal (detected at line 3)\n"
     ]
    }
   ],
   "execution_count": 4
  },
  {
   "metadata": {
    "ExecuteTime": {
     "end_time": "2024-05-27T09:37:28.773462Z",
     "start_time": "2024-05-27T09:37:28.756224Z"
    }
   },
   "cell_type": "code",
   "source": [
    "# Missing double quotes before the word Day\n",
    "print(\"Day 1 - String Manipulation\")\n",
    "# Outer double quotes changed to single quotes. or add escapes or add single quotes inside\n",
    "print(\"String Concatenation is done with the \\\"+\\\" sign.\")\n",
    "print('String Concatenation is done with the \"+\" sign.')\n",
    "print(\"String Concatenation is done with the '+' sign.\")\n",
    "# Extra indentation removed\n",
    "print('e.g. print(\"Hello \" + \"world\")')\n",
    "# Extra ( in print function removed\n",
    "print(\"New lines can be created with a backslash and n.\")"
   ],
   "id": "c1e23e13b04f914c",
   "outputs": [
    {
     "name": "stdout",
     "output_type": "stream",
     "text": [
      "Day 1 - String Manipulation\n",
      "String Concatenation is done with the \"+\" sign.\n",
      "String Concatenation is done with the \"+\" sign.\n",
      "String Concatenation is done with the '+' sign.\n",
      "e.g. print(\"Hello \" + \"world\")\n",
      "New lines can be created with a backslash and n.\n"
     ]
    }
   ],
   "execution_count": 6
  },
  {
   "metadata": {},
   "cell_type": "markdown",
   "source": "We now use `input()` function and print product of numbers or length of strings. For taking numbers you must convert the input to `int` using `int(input())`.",
   "id": "32628da71e40e886"
  },
  {
   "metadata": {
    "ExecuteTime": {
     "end_time": "2024-05-27T09:51:56.200704Z",
     "start_time": "2024-05-27T09:51:51.291728Z"
    }
   },
   "cell_type": "code",
   "source": [
    "s = input(\"Hello, how do I call you? \")\n",
    "s"
   ],
   "id": "59a29ed05f97272d",
   "outputs": [
    {
     "data": {
      "text/plain": [
       "'SOng'"
      ]
     },
     "execution_count": 13,
     "metadata": {},
     "output_type": "execute_result"
    }
   ],
   "execution_count": 13
  },
  {
   "metadata": {
    "ExecuteTime": {
     "end_time": "2024-05-27T09:38:47.389396Z",
     "start_time": "2024-05-27T09:38:40.853125Z"
    }
   },
   "cell_type": "code",
   "source": [
    "n1 = int(input())\n",
    "n2 = int(input())\n",
    "print(n1 * n2)"
   ],
   "id": "40cc39e542cdaa97",
   "outputs": [
    {
     "name": "stdout",
     "output_type": "stream",
     "text": [
      "445\n"
     ]
    }
   ],
   "execution_count": 8
  },
  {
   "metadata": {
    "ExecuteTime": {
     "end_time": "2024-05-27T09:39:57.225098Z",
     "start_time": "2024-05-27T09:39:53.486492Z"
    }
   },
   "cell_type": "code",
   "source": [
    "# for string, we can directly use `input()`\n",
    "some_string = input() \n",
    "# this will take 1, 2.09 etc. as strings only. you need to use int(), float() to make it numerical.\n",
    "\n",
    "print(len(some_string))"
   ],
   "id": "d86855f819706230",
   "outputs": [
    {
     "name": "stdout",
     "output_type": "stream",
     "text": [
      "7\n"
     ]
    }
   ],
   "execution_count": 9
  },
  {
   "metadata": {},
   "cell_type": "markdown",
   "source": "Now we see how variable sand their scope works, and how assignment works.",
   "id": "99291df59cafc276"
  },
  {
   "metadata": {
    "ExecuteTime": {
     "end_time": "2024-05-27T09:47:38.084046Z",
     "start_time": "2024-05-27T09:47:29.486726Z"
    }
   },
   "cell_type": "code",
   "source": [
    "a = input()\n",
    "b = input()\n",
    "\n",
    "print(f'Values of a and b before any manipulation: {a} and {b}')\n",
    "temp = b\n",
    "b = a\n",
    "a = temp\n",
    "print(f'Values of a and b after manipulation: {a} and {b}')"
   ],
   "id": "d5616bfa906af86c",
   "outputs": [
    {
     "name": "stdout",
     "output_type": "stream",
     "text": [
      "Values of a and b before any manipulation: i and am\n",
      "Values of a and b after manipulation: am and i\n"
     ]
    }
   ],
   "execution_count": 11
  },
  {
   "metadata": {},
   "cell_type": "markdown",
   "source": [
    "Now using all these functions, we create a simple project called \"Band Name Generator\" where user can create a band name with simple inputs! \n",
    "\n",
    "Find it here `Day1-band-name-generator/band-name-generator.py`"
   ],
   "id": "d3d450f15ef9d6e8"
  }
 ],
 "metadata": {
  "kernelspec": {
   "display_name": "Python 3",
   "language": "python",
   "name": "python3"
  },
  "language_info": {
   "codemirror_mode": {
    "name": "ipython",
    "version": 2
   },
   "file_extension": ".py",
   "mimetype": "text/x-python",
   "name": "python",
   "nbconvert_exporter": "python",
   "pygments_lexer": "ipython2",
   "version": "2.7.6"
  }
 },
 "nbformat": 4,
 "nbformat_minor": 5
}
