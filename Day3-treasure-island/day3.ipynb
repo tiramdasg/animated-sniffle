{
 "cells": [
  {
   "metadata": {},
   "cell_type": "markdown",
   "source": "Conditional statements",
   "id": "f792bdeb41c02f6e"
  },
  {
   "cell_type": "code",
   "id": "initial_id",
   "metadata": {
    "collapsed": true,
    "ExecuteTime": {
     "end_time": "2024-05-29T13:05:54.628492Z",
     "start_time": "2024-05-29T13:05:54.621956Z"
    }
   },
   "source": [
    " # example\n",
    "water_level = 50\n",
    "if water_level > 80:\n",
    "    print(\"Drain the water\")\n",
    "else:\n",
    "    print(\"continue filling with water\")"
   ],
   "outputs": [
    {
     "name": "stdout",
     "output_type": "stream",
     "text": [
      "continue filling with water\n"
     ]
    }
   ],
   "execution_count": 3
  },
  {
   "metadata": {
    "ExecuteTime": {
     "end_time": "2024-05-29T13:06:18.794310Z",
     "start_time": "2024-05-29T13:06:16.664806Z"
    }
   },
   "cell_type": "code",
   "source": [
    "# example of ticketing system\n",
    "print(\"Welcome to rollercoaster\")\n",
    "height = int(input(\"How tall are you in cm? \"))\n",
    "if height >= 120:\n",
    "    print(\"enjoy the ride!\")\n",
    "else:\n",
    "    print(\"Sorry you fall short\")"
   ],
   "id": "456771ecda05c3b9",
   "outputs": [
    {
     "name": "stdout",
     "output_type": "stream",
     "text": [
      "Welcome to rollercoaster\n",
      "enjoy the ride!\n"
     ]
    }
   ],
   "execution_count": 4
  },
  {
   "metadata": {
    "ExecuteTime": {
     "end_time": "2024-05-29T13:10:05.151608Z",
     "start_time": "2024-05-29T13:10:02.615209Z"
    }
   },
   "cell_type": "code",
   "source": [
    "# Which number do you want to check?\n",
    "number = int(input())\n",
    "if number % 2 != 0:\n",
    "  print(\"This is an odd number.\")\n",
    "else:\n",
    "  print(\"This is an even number.\")"
   ],
   "id": "10cae91b4f1b2e2a",
   "outputs": [
    {
     "name": "stdout",
     "output_type": "stream",
     "text": [
      "This is an even number.\n"
     ]
    }
   ],
   "execution_count": 5
  },
  {
   "metadata": {
    "ExecuteTime": {
     "end_time": "2024-05-29T13:37:44.137983Z",
     "start_time": "2024-05-29T13:37:38.545641Z"
    }
   },
   "cell_type": "code",
   "source": [
    "# example of ticketing system\n",
    "print(\"Welcome to rollercoaster\")\n",
    "height = int(input(\"How tall are you in cm? \"))\n",
    "bill = 0\n",
    "if height >= 120:\n",
    "    age = int(input(\"How old are you? \"))\n",
    "    if age < 12:\n",
    "        bill = 5\n",
    "    elif 12 <= age <= 18:\n",
    "        bill = 7\n",
    "    else: # elif age > 18\n",
    "        bill = 12\n",
    "    photo = input(\"Wants photo? y or n \")\n",
    "    if photo == \"y\":\n",
    "        bill += 3\n",
    "    print(f\"Your bill is: {bill}\")\n",
    "else:\n",
    "    print(\"Sorry you fall short\")"
   ],
   "id": "cc5b480573b8d536",
   "outputs": [
    {
     "name": "stdout",
     "output_type": "stream",
     "text": [
      "Welcome to rollercoaster\n",
      "Your bill is: 15\n"
     ]
    }
   ],
   "execution_count": 13
  },
  {
   "metadata": {
    "ExecuteTime": {
     "end_time": "2024-05-29T13:23:43.759108Z",
     "start_time": "2024-05-29T13:23:37.018606Z"
    }
   },
   "cell_type": "code",
   "source": [
    "# enter height in meters e.g: 1.65\n",
    "height = input(\"Enter height in meters\")\n",
    "# enter weight in kilograms e.g: 72\n",
    "weight = input(\"enter weight in kg\")\n",
    "bmi = float(weight) / (float(height)**2)\n",
    "if bmi < 18.5:\n",
    "  print(f\"Your BMI is {bmi}, you are underweight.\")\n",
    "elif 18.5 <= bmi < 25.0:\n",
    "  print(f\"Your BMI is {bmi}, you have a normal weight.\")\n",
    "elif 25.0 <= bmi < 30.0:\n",
    "  print(f\"Your BMI is {bmi}, you are slightly overweight.\")\n",
    "elif 30.0 <= bmi < 35.0:\n",
    "  print(f\"Your BMI is {bmi}, you are obese.\")\n",
    "elif bmi >= 35.0:\n",
    "  print(f\"Your BMI is {bmi}, you are clinically obese.\")\n"
   ],
   "id": "3a5367e25552eac4",
   "outputs": [
    {
     "name": "stdout",
     "output_type": "stream",
     "text": [
      "Your BMI is 26.564344746162927, you are slightly overweight.\n"
     ]
    }
   ],
   "execution_count": 9
  },
  {
   "metadata": {
    "ExecuteTime": {
     "end_time": "2024-05-29T13:28:33.204730Z",
     "start_time": "2024-05-29T13:28:30.452774Z"
    }
   },
   "cell_type": "code",
   "source": [
    "# leap year calc\n",
    "year = int(input(\"Which year do you want to check? \"))\n",
    "if year % 4 == 0:\n",
    "    if year % 100 == 0:\n",
    "        if year % 400 == 0:\n",
    "            print(\"Leap year\")\n",
    "        else:\n",
    "            print(\"Not leap year\")\n",
    "    else:\n",
    "        print(\"Leap year\")\n",
    "else:\n",
    "    print(\"Not leap year\")"
   ],
   "id": "130bd2e21cf506f2",
   "outputs": [],
   "execution_count": 11
  },
  {
   "metadata": {
    "ExecuteTime": {
     "end_time": "2024-05-29T13:44:43.000241Z",
     "start_time": "2024-05-29T13:44:34.891142Z"
    }
   },
   "cell_type": "code",
   "source": [
    "print(\"Thank you for choosing Python Pizza Deliveries!\")\n",
    "size = input(\"What size pizza do you want? S, M, or L \")\n",
    "add_pepperoni = input(\"Do you want pepperoni? Y or N \")\n",
    "extra_cheese = input(\"Do you want extra cheese? Y or N \")\n",
    "\n",
    "bill = 0\n",
    "if size == \"S\":\n",
    "    bill = 15\n",
    "    if add_pepperoni == 'Y':\n",
    "        bill += 2\n",
    "elif size == \"M\":\n",
    "    bill = 20\n",
    "elif size == \"L\":\n",
    "    bill = 25\n",
    "if add_pepperoni == 'Y' and size != 'S':\n",
    "    bill += 3\n",
    "if extra_cheese == 'Y':\n",
    "    bill += 1\n",
    "print(f\"Your final bill is: {bill}\")"
   ],
   "id": "a4320bb13da5af65",
   "outputs": [
    {
     "name": "stdout",
     "output_type": "stream",
     "text": [
      "Thank you for choosing Python Pizza Deliveries!\n",
      "Your final bill is: 17\n"
     ]
    }
   ],
   "execution_count": 14
  },
  {
   "metadata": {
    "ExecuteTime": {
     "end_time": "2024-05-29T14:00:53.225254Z",
     "start_time": "2024-05-29T14:00:46.763664Z"
    }
   },
   "cell_type": "code",
   "source": [
    "# silly code\n",
    "print(\"The Love Calculator is calculating your score...\")\n",
    "name1 = input(\"What is your name? \")\n",
    "name2 = input(\"What is their name? \")\n",
    "\n",
    "name = name1+name2\n",
    "true_score = (name.lower().count(\"t\")+name.lower().count(\"r\")+\n",
    "              name.lower().count(\"u\")+name.lower().count(\"e\"))\n",
    "love_score = (name.lower().count(\"l\")+name.lower().count(\"o\")+\n",
    "              name.lower().count(\"v\")+name.lower().count(\"e\"))\n",
    "score = str(true_score)+str(love_score)\n",
    "if int(score)<10 or int(score)>90:\n",
    "  print(f'Your score is {score}, you go together like coke and mentos.')\n",
    "elif 40 <= int(score) <= 50:\n",
    "  print(f'Your score is {score}, you are alright together.')\n",
    "else:\n",
    "  print(f'Your score is {score}.')"
   ],
   "id": "a70a4b100ca2edde",
   "outputs": [
    {
     "name": "stdout",
     "output_type": "stream",
     "text": [
      "The Love Calculator is calculating your score...\n",
      "Your score is 26.\n"
     ]
    }
   ],
   "execution_count": 16
  }
 ],
 "metadata": {
  "kernelspec": {
   "display_name": "Python 3",
   "language": "python",
   "name": "python3"
  },
  "language_info": {
   "codemirror_mode": {
    "name": "ipython",
    "version": 2
   },
   "file_extension": ".py",
   "mimetype": "text/x-python",
   "name": "python",
   "nbconvert_exporter": "python",
   "pygments_lexer": "ipython2",
   "version": "2.7.6"
  }
 },
 "nbformat": 4,
 "nbformat_minor": 5
}
